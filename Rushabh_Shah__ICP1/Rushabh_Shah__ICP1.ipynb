{
  "nbformat": 4,
  "nbformat_minor": 0,
  "metadata": {
    "colab": {
      "provenance": []
    },
    "kernelspec": {
      "name": "python3",
      "display_name": "Python 3"
    },
    "language_info": {
      "name": "python"
    }
  },
  "cells": [
    {
      "cell_type": "markdown",
      "source": [
        "5. In your colab file, write a python program for the following:\n",
        "\n",
        "  a. Input the string “Python” as a list of characters from console, delete at least 2\n",
        "  characters, reversetheresultant string, and print it.\n",
        "\n",
        "  Sample input:\n",
        "  \n",
        "  •python\n",
        "  \n",
        "  Sample output:\n",
        "  \n",
        "  •htyp"
      ],
      "metadata": {
        "id": "gjDjzsKxXRx9"
      }
    },
    {
      "cell_type": "code",
      "source": [
        "input_string = input(\"Enter the string: \")\n",
        "\n",
        "char_list = list(input_string)\n",
        "\n",
        "del char_list[-2:]  # Removes the last two characters\n",
        "\n",
        "char_list.reverse()\n",
        "\n",
        "output_string = ''.join(char_list)\n",
        "print(output_string)\n",
        "\n"
      ],
      "metadata": {
        "id": "rwlCAEkCqwGE"
      },
      "execution_count": null,
      "outputs": []
    },
    {
      "cell_type": "markdown",
      "source": [
        "B. Take two numbers from user and perform at least 4 arithmetic operations on them."
      ],
      "metadata": {
        "id": "pJX57pIAYZOE"
      }
    },
    {
      "cell_type": "code",
      "source": [
        "# Step 1:\n",
        "num1 = float(input(\"Enter the first number: \"))\n",
        "num2 = float(input(\"Enter the second number: \"))\n",
        "\n",
        "# Step 2:\n",
        "addition = num1 + num2\n",
        "subtraction = num1 - num2\n",
        "multiplication = num1 * num2\n",
        "division = num1 / num2 if num2 != 0 else \"undefined (division by zero)\"\n",
        "\n",
        "# Step 3:\n",
        "print(f\"Addition: {num1} + {num2} = {addition}\")\n",
        "print(f\"Subtraction: {num1} - {num2} = {subtraction}\")\n",
        "print(f\"Multiplication: {num1} * {num2} = {multiplication}\")\n",
        "print(f\"Division: {num1} / {num2} = {division}\")\n",
        "\n"
      ],
      "metadata": {
        "id": "hslLVVSNr8gv"
      },
      "execution_count": null,
      "outputs": []
    },
    {
      "cell_type": "markdown",
      "source": [
        "6 Write a program that accepts a sentence and replace each occurrence of\n",
        "  ‘python’ with ‘pythons’.\n",
        "\n",
        "  • Sample input:\n",
        "\n",
        "  •I love playing with python\n",
        "\n",
        "  • Sample output:\n",
        "\n",
        "  •I love playing with pythons"
      ],
      "metadata": {
        "id": "KpSXMaUaYkU_"
      }
    },
    {
      "cell_type": "code",
      "source": [
        "def replace_python(sentence):\n",
        "    updated_sentence = sentence.replace('python', 'pythons')\n",
        "    return updated_sentence\n",
        "\n",
        "# Enter a sentence\n",
        "input_sentence = input(\"Enter a sentence: \")\n",
        "\n",
        "# user's input and store the result\n",
        "result = replace_python(input_sentence)\n",
        "\n",
        "# Print the updated sentence\n",
        "print(\"Updated sentence:\", result)\n"
      ],
      "metadata": {
        "id": "zcO-x1CGuvo0"
      },
      "execution_count": null,
      "outputs": []
    },
    {
      "cell_type": "markdown",
      "source": [
        "7. Use the if statement conditions to write a program to print the letter grade based on\n",
        "an input class score. Use the grading scheme we are using in this class."
      ],
      "metadata": {
        "id": "ggPGWYxDZZHn"
      }
    },
    {
      "cell_type": "code",
      "source": [
        "score = float(input(\"Enter the class score (0-100): \"))\n",
        "\n",
        "# letter grade using if-elif-else conditions\n",
        "if 90 <= score <= 100:\n",
        "    grade = \"A\"\n",
        "elif 80 <= score < 90:\n",
        "    grade = \"B\"\n",
        "elif 70 <= score < 80:\n",
        "    grade = \"C\"\n",
        "elif 60 <= score < 70:\n",
        "    grade = \"D\"\n",
        "elif 0 <= score < 60:\n",
        "    grade = \"F\"\n",
        "else:\n",
        "    grade = \"Invalid score\"\n",
        "\n",
        "print(f\"The letter grade for the score {score} is {grade}.\")\n"
      ],
      "metadata": {
        "id": "t4YuJEXMR-ZV"
      },
      "execution_count": null,
      "outputs": []
    },
    {
      "cell_type": "markdown",
      "source": [
        "8   Write a code that appends the type of elements from a given list.\n",
        "   \n",
        "   Input\n",
        "   \n",
        "   x = [23, ‘Python’, 23.98]\n",
        "   \n",
        "   Expected output\n",
        "   \n",
        "   [23, 'Python', 23.98]\n",
        "   \n",
        "   [<class 'int'>, <class 'str'>, <class 'float'>]"
      ],
      "metadata": {
        "id": "DZQZxs1bZuHo"
      }
    },
    {
      "cell_type": "code",
      "source": [
        "x = [23, 'Python', 23.98]\n",
        "\n",
        "print(x)\n",
        "\n",
        "# Create an empty list\n",
        "types_list = []\n",
        "\n",
        "# Loop through each element\n",
        "for element in x:\n",
        "    types_list.append(type(element))\n",
        "\n",
        "print(types_list)\n",
        "\n",
        "\n"
      ],
      "metadata": {
        "id": "LQBY6nO9SkoK"
      },
      "execution_count": null,
      "outputs": []
    },
    {
      "cell_type": "markdown",
      "source": [
        "9 IT_companies = {'Facebook', 'Google', 'Microsoft', 'Apple', 'IBM', 'Oracle',\n",
        "'Amazon'}\n",
        "    \n",
        "  A = {19, 22, 24, 20, 25, 26}\n",
        "    \n",
        "  B = {19, 22, 20, 25, 26, 24, 28, 27}\n",
        "    \n",
        "  age = [22, 19, 24, 25, 26, 24, 25, 24]"
      ],
      "metadata": {
        "id": "G-NAb7U1aDLi"
      }
    },
    {
      "cell_type": "code",
      "source": [
        "IT_companies = {'Facebook', 'Google', 'Microsoft', 'Apple', 'IBM', 'Oracle', 'Amazon'}\n",
        "A = {19, 22, 24, 20, 25, 26}\n",
        "B = {19, 22, 20, 25, 26, 24, 28, 27}\n",
        "age = [22, 19, 24, 25, 26, 24, 25, 24]\n",
        "\n",
        "print(\"Length of IT_companies:\", len(IT_companies))\n",
        "\n",
        "IT_companies.add('Twitter')\n",
        "print(\"After adding Twitter:\", IT_companies)\n",
        "\n",
        "IT_companies.update(['Samsung', 'Intel', 'Cisco'])\n",
        "print(\"After adding more companies:\", IT_companies)\n",
        "\n",
        "IT_companies.remove('Oracle')\n",
        "print(\"After removing Oracle:\", IT_companies)\n",
        "\n",
        "print(\"A union B:\", A | B)\n",
        "\n",
        "print(\"A intersection B:\", A & B)\n",
        "\n",
        "print(\"Is A a subset of B:\", A <= B)\n",
        "\n",
        "print(\"Are A and B disjoint:\", A.isdisjoint(B))\n",
        "\n",
        "print(\"Symmetric difference:\", A ^ B)\n",
        "\n",
        "age_set = set(age)\n",
        "print(\"Length of age list:\", len(age))\n",
        "print(\"Length of age set:\", len(age_set))\n"
      ],
      "metadata": {
        "id": "udIiUeDWUIYs"
      },
      "execution_count": null,
      "outputs": []
    },
    {
      "cell_type": "code",
      "source": [],
      "metadata": {
        "id": "BMY1UZeqVcYT"
      },
      "execution_count": null,
      "outputs": []
    }
  ]
}